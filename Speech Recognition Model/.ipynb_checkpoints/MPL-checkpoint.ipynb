{
 "cells": [
  {
   "cell_type": "code",
   "execution_count": 3,
   "metadata": {},
   "outputs": [],
   "source": [
    "import librosa\n",
    "import soundfile\n",
    "import os,glob,pickle\n",
    "import numpy as np\n",
    "import speech_recognition as sr\n",
    "from sklearn.model_selection import train_test_split\n",
    "from sklearn.neural_network import MLPClassifier\n",
    "from sklearn.metrics import accuracy_score"
   ]
  },
  {
   "cell_type": "code",
   "execution_count": 4,
   "metadata": {},
   "outputs": [],
   "source": [
    "#DataFlair - Extract features (mfcc, chroma, mel) from a sound file\n",
    "def extract_feature(file_name, mfcc, chroma, mel):\n",
    "    with soundfile.SoundFile(file_name) as sound_file:\n",
    "        X = sound_file.read(dtype=\"float32\")\n",
    "        sample_rate=sound_file.samplerate\n",
    "        if chroma:\n",
    "            stft=np.abs(librosa.stft(X))\n",
    "        result=np.array([])\n",
    "        if mfcc:\n",
    "            mfccs=np.mean(librosa.feature.mfcc(y=X, sr=sample_rate, n_mfcc=40).T, axis=0)\n",
    "            result=np.hstack((result, mfccs))\n",
    "        if chroma:\n",
    "            chroma=np.mean(librosa.feature.chroma_stft(S=stft, sr=sample_rate).T,axis=0)\n",
    "            result=np.hstack((result, chroma))\n",
    "        if mel:\n",
    "            mel=np.mean(librosa.feature.melspectrogram(X, sr=sample_rate).T,axis=0)\n",
    "            result=np.hstack((result, mel))\n",
    "    return result"
   ]
  },
  {
   "cell_type": "code",
   "execution_count": 5,
   "metadata": {},
   "outputs": [],
   "source": [
    "#DataFlair - Emotions in the RAVDESS dataset\n",
    "emotions={\n",
    "  '01':'neutral',\n",
    "  '02':'calm',\n",
    "  '03':'happy',\n",
    "  '04':'sad',\n",
    "  '05':'angry',\n",
    "  '06':'fearful',\n",
    "  '07':'disgust',\n",
    "  '08':'surprised'\n",
    "}\n",
    "\n",
    "#DataFlair - Emotions to observe\n",
    "observed_emotions=['calm', 'happy', 'fearful', 'disgust']"
   ]
  },
  {
   "cell_type": "code",
   "execution_count": 6,
   "metadata": {},
   "outputs": [],
   "source": [
    "#DataFlair - Load the data and extract features for each sound file\n",
    "def load_data(test_size=0.2):\n",
    "    x,y=[],[]\n",
    "    for file in glob.glob(\"F:\\Project\\RAVDESS\\Actor_*\\\\*.wav\"):\n",
    "        file_name=os.path.basename(file)\n",
    "        emotion=emotions[file_name.split(\"-\")[2]]\n",
    "        if emotion not in observed_emotions:\n",
    "            continue\n",
    "        feature=extract_feature(file, mfcc=True, chroma=True, mel=True)\n",
    "        x.append(feature)\n",
    "        y.append(emotion)\n",
    "    return train_test_split(np.array(x), y, test_size=test_size, random_state=9)"
   ]
  },
  {
   "cell_type": "code",
   "execution_count": 7,
   "metadata": {},
   "outputs": [
    {
     "name": "stdout",
     "output_type": "stream",
     "text": [
      "Say Something\n"
     ]
    }
   ],
   "source": [
    "# Listning to the microphone and giving this output as an input to feature extractor\n",
    "os.chdir('F:\\Project\\SpeechDataset')\n",
    "r= sr.Recognizer()\n",
    "with sr.Microphone() as source:\n",
    "    print('Say Something')\n",
    "    audio = r.listen(source)\n",
    "    \n",
    "    with open('speech.wav','wb') as f:\n",
    "        f.write(audio.get_wav_data())\n",
    "    "
   ]
  },
  {
   "cell_type": "code",
   "execution_count": 8,
   "metadata": {},
   "outputs": [],
   "source": [
    "file = \"F:\\Project\\SpeechDataset\\speech.wav\"    \n",
    "feature = extract_feature(file, mfcc=True, chroma= True, mel=True)   "
   ]
  },
  {
   "cell_type": "code",
   "execution_count": 9,
   "metadata": {},
   "outputs": [
    {
     "name": "stdout",
     "output_type": "stream",
     "text": [
      "[[-5.22057312e+02  3.50732536e+01  3.75979710e+00 ...  1.65243182e-04\n",
      "   1.04321633e-04  6.55571930e-05]\n",
      " [-6.41207336e+02  4.49728851e+01 -1.83886862e+00 ...  3.89262023e-05\n",
      "   3.05255780e-05  2.94166712e-05]\n",
      " [-6.50698486e+02  5.30313988e+01 -4.91021967e+00 ...  4.75216984e-05\n",
      "   3.46632660e-05  1.62844535e-05]\n",
      " ...\n",
      " [-5.50096191e+02  1.70297680e+01 -1.14575634e+01 ...  1.51764645e-04\n",
      "   1.16828553e-04  8.47479387e-05]\n",
      " [-5.55371155e+02  4.71378479e+01  1.10560827e+01 ...  1.61086486e-04\n",
      "   1.04962528e-04  6.52812014e-05]\n",
      " [-5.04864716e+02  3.52971039e+01 -1.44038277e+01 ...  6.08151604e-04\n",
      "   5.55269711e-04  4.47782280e-04]]\n",
      "[[-6.01416138e+02  6.33363152e+01 -1.16155605e+01 ...  7.30560214e-06\n",
      "   4.64440200e-06  1.78248013e-06]\n",
      " [-7.87200317e+02  5.97919350e+01  2.11022377e+01 ...  4.30602057e-07\n",
      "   4.01216226e-07  4.06060309e-07]\n",
      " [-5.60616272e+02  5.78973389e+01 -8.86894703e+00 ...  6.46989676e-04\n",
      "   3.31015413e-04  1.85833647e-04]\n",
      " ...\n",
      " [-4.44762115e+02  2.36135807e+01 -1.48351059e+01 ...  8.65290698e-04\n",
      "   5.16015454e-04  3.73600313e-04]\n",
      " [-5.96088196e+02  6.75587769e+01  1.62860405e+00 ...  2.92377263e-05\n",
      "   2.20639995e-05  1.13877868e-05]\n",
      " [-6.95250427e+02  4.46738052e+01 -7.46818161e+00 ...  2.15334803e-05\n",
      "   1.84785295e-05  1.01300748e-05]]\n",
      "['disgust', 'fearful', 'calm', 'calm', 'fearful', 'fearful', 'disgust', 'calm', 'calm', 'happy', 'calm', 'disgust', 'fearful', 'disgust', 'fearful', 'disgust', 'happy', 'disgust', 'fearful', 'happy', 'happy', 'calm', 'fearful', 'disgust', 'calm', 'fearful', 'disgust', 'fearful', 'calm', 'calm', 'happy', 'fearful', 'calm', 'happy', 'fearful', 'calm', 'fearful', 'disgust', 'calm', 'disgust', 'happy', 'fearful', 'happy', 'fearful', 'calm', 'happy', 'happy', 'calm', 'fearful', 'disgust', 'disgust', 'disgust', 'calm', 'happy', 'calm', 'calm', 'calm', 'disgust', 'happy', 'disgust', 'happy', 'fearful', 'happy', 'disgust', 'happy', 'fearful', 'calm', 'happy', 'calm', 'happy', 'disgust', 'fearful', 'calm', 'calm', 'happy', 'fearful', 'calm', 'calm', 'happy', 'fearful', 'happy', 'calm', 'happy', 'fearful', 'happy', 'disgust', 'disgust', 'fearful', 'fearful', 'disgust', 'disgust', 'fearful', 'calm', 'calm', 'calm', 'fearful', 'happy', 'happy', 'calm', 'disgust', 'disgust', 'calm', 'disgust', 'fearful', 'happy', 'happy', 'disgust', 'calm', 'happy', 'disgust', 'fearful', 'calm', 'happy', 'disgust', 'disgust', 'fearful', 'fearful', 'calm', 'calm', 'happy', 'disgust', 'calm', 'fearful', 'happy', 'disgust', 'calm', 'calm', 'happy', 'fearful', 'disgust', 'happy', 'disgust', 'happy', 'calm', 'disgust', 'fearful', 'calm', 'happy', 'disgust', 'happy', 'calm', 'happy', 'disgust', 'fearful', 'happy', 'disgust', 'happy', 'happy', 'fearful', 'happy', 'disgust', 'fearful', 'calm', 'calm', 'disgust', 'calm', 'happy', 'disgust', 'happy', 'calm', 'happy', 'calm', 'disgust', 'fearful', 'happy', 'disgust', 'disgust', 'fearful', 'disgust', 'fearful', 'fearful', 'happy', 'happy', 'disgust', 'calm', 'fearful', 'calm', 'calm', 'fearful', 'happy', 'disgust', 'calm', 'disgust', 'fearful', 'fearful', 'disgust', 'disgust', 'calm', 'fearful', 'fearful', 'fearful', 'happy', 'disgust', 'calm', 'disgust', 'disgust', 'disgust', 'disgust', 'calm', 'happy', 'fearful', 'disgust', 'happy', 'fearful', 'disgust', 'fearful', 'happy', 'disgust', 'disgust', 'calm', 'happy', 'fearful', 'calm', 'disgust', 'happy', 'disgust', 'disgust', 'disgust', 'fearful', 'calm', 'fearful', 'calm', 'calm', 'fearful', 'happy', 'fearful', 'happy', 'happy', 'happy', 'calm', 'disgust', 'happy', 'fearful', 'fearful', 'calm', 'fearful', 'disgust', 'fearful', 'fearful', 'fearful', 'calm', 'happy', 'happy', 'disgust', 'calm', 'disgust', 'fearful', 'happy', 'disgust', 'happy', 'calm', 'fearful', 'calm', 'calm', 'disgust', 'happy', 'disgust', 'calm', 'disgust', 'fearful', 'happy', 'disgust', 'fearful', 'fearful', 'disgust', 'happy', 'fearful', 'calm', 'happy', 'happy', 'fearful', 'calm', 'disgust', 'happy', 'fearful', 'fearful', 'fearful', 'disgust', 'calm', 'happy', 'calm', 'disgust', 'calm', 'happy', 'disgust', 'disgust', 'happy', 'disgust', 'happy', 'fearful', 'calm', 'disgust', 'calm', 'calm', 'fearful', 'calm', 'fearful', 'happy', 'fearful', 'fearful', 'happy', 'calm', 'happy', 'calm', 'happy', 'fearful', 'calm', 'happy', 'disgust', 'happy', 'calm', 'fearful', 'fearful', 'calm', 'calm', 'happy', 'fearful', 'disgust', 'disgust', 'disgust', 'happy', 'disgust', 'fearful', 'calm', 'happy', 'happy', 'fearful', 'disgust', 'calm', 'fearful', 'happy', 'calm', 'disgust', 'disgust', 'happy', 'calm', 'disgust', 'fearful', 'disgust', 'fearful', 'disgust', 'happy', 'disgust', 'calm', 'fearful', 'happy', 'calm', 'fearful', 'disgust', 'disgust', 'calm', 'calm', 'happy', 'happy', 'happy', 'fearful', 'disgust', 'calm', 'fearful', 'disgust', 'fearful', 'fearful', 'calm', 'fearful', 'disgust', 'fearful', 'fearful', 'calm', 'happy', 'fearful', 'happy', 'disgust', 'happy', 'fearful', 'calm', 'disgust', 'calm', 'fearful', 'happy', 'happy', 'fearful', 'fearful', 'happy', 'calm', 'happy', 'happy', 'disgust', 'happy', 'happy', 'fearful', 'calm', 'fearful', 'happy', 'happy', 'happy', 'fearful', 'disgust', 'disgust', 'fearful', 'disgust', 'disgust', 'fearful', 'disgust', 'happy', 'calm', 'fearful', 'disgust', 'disgust', 'happy', 'fearful', 'disgust', 'happy', 'calm', 'disgust', 'fearful', 'happy', 'happy', 'calm', 'disgust', 'calm', 'calm', 'fearful', 'fearful', 'happy', 'disgust', 'happy', 'calm', 'disgust', 'fearful', 'fearful', 'disgust', 'disgust', 'calm', 'happy', 'happy', 'fearful', 'happy', 'fearful', 'happy', 'fearful', 'disgust', 'fearful', 'disgust', 'calm', 'fearful', 'calm', 'happy', 'calm', 'calm', 'calm', 'fearful', 'calm', 'calm', 'happy', 'calm', 'calm', 'calm', 'disgust', 'fearful', 'fearful', 'happy', 'disgust', 'fearful', 'happy', 'calm', 'calm', 'fearful', 'calm', 'happy', 'disgust', 'happy', 'disgust', 'disgust', 'fearful', 'fearful', 'fearful', 'calm', 'fearful', 'fearful', 'calm', 'calm', 'disgust', 'happy', 'happy', 'fearful', 'happy', 'calm', 'calm', 'fearful', 'calm', 'fearful', 'fearful', 'happy', 'happy', 'fearful', 'happy', 'disgust', 'calm', 'fearful', 'disgust', 'calm', 'happy', 'fearful', 'fearful', 'happy', 'fearful', 'fearful', 'calm', 'happy', 'fearful', 'happy', 'disgust', 'calm', 'calm', 'happy', 'disgust', 'happy', 'happy', 'fearful', 'disgust', 'calm', 'calm', 'fearful', 'disgust', 'calm', 'disgust', 'fearful', 'calm', 'fearful', 'fearful', 'fearful', 'disgust', 'fearful', 'happy', 'happy', 'fearful', 'disgust', 'disgust', 'happy', 'happy', 'fearful', 'disgust', 'fearful', 'happy', 'fearful', 'calm', 'fearful', 'happy', 'calm', 'calm', 'disgust', 'fearful', 'fearful', 'happy', 'disgust', 'happy', 'disgust', 'disgust', 'disgust', 'happy', 'disgust', 'calm', 'disgust', 'fearful', 'fearful', 'happy', 'disgust', 'fearful', 'fearful', 'calm', 'disgust', 'disgust', 'fearful', 'disgust', 'disgust', 'disgust']\n",
      "['happy', 'calm', 'happy', 'happy', 'disgust', 'calm', 'happy', 'happy', 'disgust', 'happy', 'happy', 'disgust', 'happy', 'happy', 'disgust', 'fearful', 'calm', 'happy', 'disgust', 'disgust', 'calm', 'disgust', 'disgust', 'calm', 'happy', 'happy', 'disgust', 'disgust', 'calm', 'calm', 'happy', 'disgust', 'happy', 'fearful', 'fearful', 'calm', 'calm', 'fearful', 'calm', 'calm', 'happy', 'disgust', 'calm', 'calm', 'disgust', 'calm', 'disgust', 'happy', 'calm', 'happy', 'fearful', 'fearful', 'fearful', 'fearful', 'happy', 'fearful', 'disgust', 'happy', 'calm', 'calm', 'disgust', 'calm', 'disgust', 'calm', 'disgust', 'calm', 'calm', 'disgust', 'disgust', 'happy', 'fearful', 'fearful', 'fearful', 'fearful', 'fearful', 'disgust', 'fearful', 'happy', 'calm', 'fearful', 'disgust', 'calm', 'happy', 'calm', 'disgust', 'fearful', 'calm', 'happy', 'disgust', 'fearful', 'disgust', 'disgust', 'calm', 'fearful', 'disgust', 'fearful', 'calm', 'calm', 'calm', 'disgust', 'fearful', 'disgust', 'disgust', 'fearful', 'disgust', 'calm', 'disgust', 'happy', 'fearful', 'happy', 'happy', 'calm', 'calm', 'fearful', 'fearful', 'calm', 'calm', 'happy', 'calm', 'fearful', 'calm', 'happy', 'calm', 'happy', 'fearful', 'calm', 'disgust', 'fearful', 'calm', 'calm', 'fearful', 'happy', 'happy', 'disgust', 'disgust', 'happy', 'fearful', 'calm', 'disgust', 'disgust', 'calm', 'fearful', 'disgust', 'disgust', 'happy', 'fearful', 'fearful', 'disgust', 'happy', 'calm', 'happy', 'disgust', 'happy', 'calm', 'disgust', 'calm', 'calm', 'disgust', 'calm', 'calm', 'disgust', 'calm', 'happy', 'calm', 'calm', 'fearful', 'happy', 'happy', 'calm', 'happy', 'happy', 'happy', 'disgust', 'disgust', 'happy', 'fearful', 'calm', 'fearful', 'happy', 'happy', 'disgust', 'happy', 'calm', 'calm', 'calm', 'happy', 'happy', 'fearful', 'happy', 'happy', 'disgust', 'calm']\n"
     ]
    }
   ],
   "source": [
    "#DataFlair - Split the dataset\n",
    "x_train,x_test,y_train,y_test=load_data(test_size=0.25)\n",
    "print(x_train)\n",
    "print(x_test)\n",
    "print(y_train)\n",
    "print(y_test)"
   ]
  },
  {
   "cell_type": "code",
   "execution_count": 10,
   "metadata": {},
   "outputs": [
    {
     "name": "stdout",
     "output_type": "stream",
     "text": [
      "(576, 192)\n"
     ]
    }
   ],
   "source": [
    "#DataFlair - Get the shape of the training and testing datasets\n",
    "print((x_train.shape[0], x_test.shape[0]))"
   ]
  },
  {
   "cell_type": "code",
   "execution_count": 11,
   "metadata": {},
   "outputs": [
    {
     "name": "stdout",
     "output_type": "stream",
     "text": [
      "Features extracted: 180\n"
     ]
    }
   ],
   "source": [
    "#DataFlair - Get the number of features extracted\n",
    "print(f'Features extracted: {x_train.shape[1]}')"
   ]
  },
  {
   "cell_type": "code",
   "execution_count": 12,
   "metadata": {},
   "outputs": [],
   "source": [
    "#DataFlair - Initialize the Multi Layer Perceptron Classifier\n",
    "model=MLPClassifier(alpha=0.01, batch_size=256, epsilon=1e-08, hidden_layer_sizes=(300,), learning_rate='adaptive', max_iter=500)"
   ]
  },
  {
   "cell_type": "code",
   "execution_count": 13,
   "metadata": {},
   "outputs": [
    {
     "data": {
      "text/plain": [
       "MLPClassifier(alpha=0.01, batch_size=256, hidden_layer_sizes=(300,),\n",
       "              learning_rate='adaptive', max_iter=500)"
      ]
     },
     "execution_count": 13,
     "metadata": {},
     "output_type": "execute_result"
    }
   ],
   "source": [
    "#DataFlair - Train the model\n",
    "model.fit(x_train,y_train)"
   ]
  },
  {
   "cell_type": "code",
   "execution_count": 14,
   "metadata": {},
   "outputs": [
    {
     "name": "stdout",
     "output_type": "stream",
     "text": [
      "['calm']\n"
     ]
    }
   ],
   "source": [
    "#DataFlair - Predict for the test set\n",
    "y_pred=model.predict(x_test)\n",
    "y_pre=model.predict([feature])\n",
    "print(y_pre)"
   ]
  },
  {
   "cell_type": "code",
   "execution_count": 15,
   "metadata": {},
   "outputs": [
    {
     "name": "stdout",
     "output_type": "stream",
     "text": [
      "Accuracy: 69.27%\n"
     ]
    }
   ],
   "source": [
    "#DataFlair - Calculate the accuracy of our model\n",
    "accuracy=accuracy_score(y_true=y_test, y_pred=y_pred)\n",
    "\n",
    "#DataFlair - Print the accuracy\n",
    "print(\"Accuracy: {:.2f}%\".format(accuracy*100))"
   ]
  },
  {
   "cell_type": "code",
   "execution_count": null,
   "metadata": {},
   "outputs": [],
   "source": []
  }
 ],
 "metadata": {
  "kernelspec": {
   "display_name": "Python 3",
   "language": "python",
   "name": "python3"
  },
  "language_info": {
   "codemirror_mode": {
    "name": "ipython",
    "version": 3
   },
   "file_extension": ".py",
   "mimetype": "text/x-python",
   "name": "python",
   "nbconvert_exporter": "python",
   "pygments_lexer": "ipython3",
   "version": "3.8.5"
  }
 },
 "nbformat": 4,
 "nbformat_minor": 4
}
