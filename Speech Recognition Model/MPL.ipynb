{
 "cells": [
  {
   "cell_type": "code",
   "execution_count": 1,
   "metadata": {},
   "outputs": [],
   "source": [
    "import librosa\n",
    "import soundfile\n",
    "import os,glob,pickle\n",
    "import numpy as np\n",
    "import speech_recognition as sr\n",
    "from sklearn.model_selection import train_test_split\n",
    "from sklearn.neural_network import MLPClassifier\n",
    "from sklearn.metrics import accuracy_score"
   ]
  },
  {
   "cell_type": "code",
   "execution_count": 2,
   "metadata": {},
   "outputs": [],
   "source": [
    "#DataFlair - Extract features (mfcc, chroma, mel) from a sound file\n",
    "def extract_feature(file_name, mfcc, chroma, mel):\n",
    "    with soundfile.SoundFile(file_name) as sound_file:\n",
    "        X = sound_file.read(dtype=\"float32\")\n",
    "        sample_rate=sound_file.samplerate\n",
    "        if chroma:\n",
    "            stft=np.abs(librosa.stft(X))\n",
    "        result=np.array([])\n",
    "        if mfcc:\n",
    "            mfccs=np.mean(librosa.feature.mfcc(y=X, sr=sample_rate, n_mfcc=40).T, axis=0)\n",
    "            result=np.hstack((result, mfccs))\n",
    "        if chroma:\n",
    "            chroma=np.mean(librosa.feature.chroma_stft(S=stft, sr=sample_rate).T,axis=0)\n",
    "            result=np.hstack((result, chroma))\n",
    "        if mel:\n",
    "            mel=np.mean(librosa.feature.melspectrogram(X, sr=sample_rate).T,axis=0)\n",
    "            result=np.hstack((result, mel))\n",
    "    return result"
   ]
  },
  {
   "cell_type": "code",
   "execution_count": 3,
   "metadata": {},
   "outputs": [],
   "source": [
    "#DataFlair - Emotions in the RAVDESS dataset\n",
    "emotions={\n",
    "  '01':'neutral',\n",
    "  '02':'calm',\n",
    "  '03':'happy',\n",
    "  '04':'sad',\n",
    "  '05':'angry',\n",
    "  '06':'fearful',\n",
    "  '07':'disgust',\n",
    "  '08':'surprised'\n",
    "}\n",
    "\n",
    "#DataFlair - Emotions to observe\n",
    "observed_emotions=['calm', 'happy', 'fearful', 'disgust']"
   ]
  },
  {
   "cell_type": "code",
   "execution_count": 4,
   "metadata": {},
   "outputs": [],
   "source": [
    "#DataFlair - Load the data and extract features for each sound file\n",
    "def load_data(test_size=0.2):\n",
    "    x,y=[],[]\n",
    "    for file in glob.glob(\"F:\\Project\\TRAINING_FILES_PATH\\Actor_*\\\\*.wav\"):\n",
    "        file_name=os.path.basename(file)\n",
    "        emotion=emotions[file_name.split(\"-\")[2]]\n",
    "        if emotion not in observed_emotions:\n",
    "            continue\n",
    "        feature=extract_feature(file, mfcc=True, chroma=True, mel=True)\n",
    "        x.append(feature)\n",
    "        y.append(emotion)\n",
    "    return train_test_split(np.array(x), y, test_size=test_size, random_state=9)"
   ]
  },
  {
   "cell_type": "code",
   "execution_count": 5,
   "metadata": {},
   "outputs": [
    {
     "name": "stdout",
     "output_type": "stream",
     "text": [
      "Say Something\n"
     ]
    }
   ],
   "source": [
    "# Listning to the microphone and giving this output as an input to feature extractor\n",
    "os.chdir('F:\\Project\\SpeechDataset')\n",
    "r= sr.Recognizer()\n",
    "with sr.Microphone() as source:\n",
    "    print('Say Something')\n",
    "    audio = r.listen(source)\n",
    "    \n",
    "    with open('speech.wav','wb') as f:\n",
    "        f.write(audio.get_wav_data())\n",
    "    "
   ]
  },
  {
   "cell_type": "code",
   "execution_count": 6,
   "metadata": {},
   "outputs": [],
   "source": [
    "file = \"F:\\Project\\SpeechDataset\\speech.wav\"    \n",
    "feature = extract_feature(file, mfcc=True, chroma= True, mel=True)   "
   ]
  },
  {
   "cell_type": "code",
   "execution_count": 7,
   "metadata": {},
   "outputs": [
    {
     "name": "stdout",
     "output_type": "stream",
     "text": [
      "[[-5.76542969e+02  6.80835419e+01 -2.08600235e+01 ...  9.47501121e-06\n",
      "   4.73092086e-06  2.85591705e-06]\n",
      " [-3.17272095e+02  3.99999008e+01 -2.21502590e+01 ...  1.28920691e-03\n",
      "   2.73317029e-03  2.58369395e-03]\n",
      " [-4.65351440e+02  8.18976974e+01  2.71518345e+01 ...  2.70146236e-04\n",
      "   1.22577505e-04  7.84473887e-05]\n",
      " ...\n",
      " [-4.51377350e+02  7.93719711e+01  2.99301548e+01 ...  2.93878227e-04\n",
      "   2.63056951e-04  2.20310438e-04]\n",
      " [-5.55371155e+02  4.71378479e+01  1.10560827e+01 ...  1.61086486e-04\n",
      "   1.04962528e-04  6.52812014e-05]\n",
      " [-5.04864716e+02  3.52971039e+01 -1.44038277e+01 ...  6.08151604e-04\n",
      "   5.55269711e-04  4.47782280e-04]]\n",
      "[[-4.29285217e+02  7.01943207e+01  1.20409155e+01 ...  7.22279679e-03\n",
      "   2.22415361e-03  2.57196953e-03]\n",
      " [-3.23289978e+02  3.25324936e+01 -9.23356438e+00 ...  3.56153515e-03\n",
      "   2.56175990e-03  1.92854577e-03]\n",
      " [-3.00783630e+02  4.27569160e+01 -1.87872143e+01 ...  1.50694912e-02\n",
      "   2.82851215e-02  1.99986007e-02]\n",
      " ...\n",
      " [-4.67014404e+02  7.09190674e+01  1.24892473e+01 ...  1.42112578e-04\n",
      "   1.45577258e-04  1.54812733e-04]\n",
      " [-4.15868439e+02  9.45374832e+01  3.70160031e+00 ...  2.00923649e-04\n",
      "   2.87011033e-04  3.12409917e-04]\n",
      " [-4.76672150e+02  6.92353821e+01  2.38531322e+01 ...  9.53999770e-05\n",
      "   1.16672090e-04  8.80762091e-05]]\n",
      "['disgust', 'fearful', 'disgust', 'happy', 'happy', 'disgust', 'fearful', 'happy', 'fearful', 'happy', 'calm', 'happy', 'disgust', 'fearful', 'fearful', 'fearful', 'disgust', 'fearful', 'happy', 'fearful', 'disgust', 'disgust', 'happy', 'disgust', 'fearful', 'fearful', 'disgust', 'happy', 'happy', 'disgust', 'happy', 'happy', 'happy', 'calm', 'disgust', 'happy', 'fearful', 'disgust', 'disgust', 'happy', 'disgust', 'fearful', 'calm', 'happy', 'fearful', 'disgust', 'happy', 'happy', 'happy', 'disgust', 'disgust', 'calm', 'fearful', 'happy', 'fearful', 'fearful', 'calm', 'calm', 'happy', 'happy', 'disgust', 'happy', 'happy', 'disgust', 'disgust', 'fearful', 'happy', 'happy', 'disgust', 'happy', 'disgust', 'disgust', 'fearful', 'happy', 'fearful', 'calm', 'happy', 'fearful', 'happy', 'disgust', 'fearful', 'calm', 'disgust', 'happy', 'happy', 'disgust', 'disgust', 'disgust', 'happy', 'happy', 'disgust', 'disgust', 'disgust', 'fearful', 'calm', 'happy', 'disgust', 'fearful', 'disgust', 'happy', 'disgust', 'fearful', 'fearful', 'disgust', 'disgust', 'disgust', 'fearful', 'fearful', 'fearful', 'happy', 'disgust', 'happy', 'disgust', 'happy', 'happy', 'happy', 'fearful', 'disgust', 'disgust', 'happy', 'disgust', 'disgust', 'disgust', 'fearful', 'happy', 'disgust', 'happy', 'disgust', 'happy', 'fearful', 'disgust', 'disgust', 'calm', 'disgust', 'happy', 'fearful', 'disgust', 'disgust', 'happy', 'fearful', 'disgust', 'disgust', 'happy', 'happy', 'disgust', 'fearful', 'happy', 'disgust', 'happy', 'happy', 'happy', 'happy', 'disgust', 'disgust', 'disgust', 'happy', 'disgust', 'happy', 'happy', 'happy', 'fearful', 'calm', 'fearful', 'happy', 'fearful', 'happy', 'calm', 'disgust', 'disgust', 'disgust', 'disgust', 'happy', 'happy', 'fearful', 'happy', 'fearful', 'disgust', 'disgust', 'happy', 'happy', 'disgust', 'happy', 'disgust', 'disgust', 'fearful', 'disgust', 'happy', 'disgust', 'happy', 'calm', 'happy', 'fearful', 'happy', 'fearful', 'disgust', 'happy', 'disgust', 'disgust', 'fearful', 'disgust', 'disgust', 'happy', 'happy', 'happy', 'disgust', 'disgust', 'happy', 'happy', 'happy', 'fearful', 'fearful', 'fearful', 'disgust', 'disgust', 'fearful', 'disgust', 'happy', 'happy', 'fearful', 'fearful', 'disgust', 'happy', 'disgust', 'happy', 'happy', 'calm', 'calm', 'happy', 'fearful', 'fearful', 'fearful', 'fearful', 'disgust', 'disgust', 'fearful', 'happy', 'fearful', 'happy', 'happy', 'happy', 'disgust', 'disgust', 'disgust', 'happy', 'happy', 'happy', 'disgust', 'disgust', 'disgust', 'calm', 'disgust', 'happy', 'happy', 'happy', 'happy', 'fearful', 'fearful', 'calm', 'fearful', 'fearful', 'fearful', 'disgust', 'happy', 'disgust', 'happy', 'fearful', 'disgust', 'happy', 'fearful', 'happy', 'disgust', 'happy', 'disgust', 'fearful', 'fearful', 'disgust', 'happy', 'happy', 'calm', 'disgust', 'happy', 'disgust', 'fearful', 'happy', 'fearful', 'disgust', 'happy', 'happy', 'happy', 'happy', 'calm', 'happy', 'disgust', 'fearful', 'fearful', 'fearful', 'disgust', 'disgust', 'fearful', 'happy', 'disgust', 'fearful', 'fearful', 'disgust', 'disgust', 'happy', 'happy', 'fearful', 'disgust', 'happy', 'fearful', 'happy', 'disgust', 'happy', 'happy', 'happy', 'calm', 'happy', 'calm', 'happy', 'happy', 'disgust', 'fearful', 'disgust', 'fearful', 'disgust', 'happy', 'fearful', 'happy', 'happy', 'disgust', 'happy', 'disgust', 'disgust', 'fearful', 'fearful', 'fearful', 'fearful', 'fearful', 'disgust', 'disgust', 'happy', 'happy', 'happy', 'happy', 'happy', 'disgust', 'fearful', 'disgust', 'fearful', 'fearful', 'happy', 'fearful', 'happy', 'disgust', 'happy', 'disgust', 'fearful', 'calm', 'fearful', 'disgust', 'fearful', 'disgust', 'fearful', 'happy', 'disgust', 'happy', 'disgust', 'happy', 'fearful', 'happy', 'disgust', 'disgust', 'disgust', 'disgust', 'disgust', 'fearful', 'disgust', 'happy', 'disgust', 'disgust', 'fearful', 'happy', 'fearful', 'happy', 'disgust', 'disgust', 'disgust', 'disgust', 'calm', 'fearful', 'disgust', 'disgust', 'happy', 'happy', 'happy', 'happy', 'happy', 'happy', 'happy', 'happy', 'fearful', 'happy', 'fearful', 'happy', 'happy', 'calm', 'fearful', 'happy', 'disgust', 'happy', 'fearful', 'fearful', 'happy', 'disgust', 'fearful', 'fearful', 'fearful', 'happy', 'happy', 'calm', 'disgust', 'disgust', 'disgust', 'happy', 'happy', 'happy', 'disgust', 'fearful', 'happy', 'disgust', 'disgust', 'fearful', 'happy', 'calm', 'fearful', 'calm', 'happy', 'fearful', 'fearful', 'disgust', 'fearful', 'happy', 'disgust', 'happy', 'happy', 'disgust', 'happy', 'happy', 'disgust', 'disgust', 'fearful', 'happy', 'disgust', 'fearful', 'disgust', 'disgust', 'happy', 'disgust', 'disgust', 'calm', 'fearful', 'disgust', 'fearful', 'fearful', 'fearful', 'calm', 'disgust', 'disgust', 'happy', 'fearful', 'disgust', 'calm', 'fearful', 'fearful', 'fearful', 'happy', 'happy', 'fearful', 'fearful', 'fearful', 'disgust', 'fearful', 'disgust', 'happy', 'fearful', 'fearful', 'happy', 'happy', 'fearful', 'disgust', 'disgust', 'fearful', 'fearful', 'fearful', 'disgust', 'disgust', 'fearful', 'fearful', 'happy', 'happy', 'fearful', 'fearful', 'fearful', 'disgust', 'fearful', 'fearful', 'happy', 'fearful', 'calm', 'disgust', 'calm', 'calm', 'calm', 'disgust', 'happy', 'fearful', 'disgust', 'happy', 'disgust', 'happy', 'happy', 'disgust', 'happy', 'fearful', 'fearful', 'calm', 'happy', 'calm', 'calm', 'happy', 'disgust', 'happy', 'happy', 'disgust', 'calm', 'calm', 'calm', 'disgust', 'fearful', 'disgust', 'happy', 'fearful', 'happy', 'fearful', 'calm', 'fearful', 'fearful', 'disgust', 'calm', 'disgust', 'disgust', 'fearful', 'happy', 'disgust', 'happy', 'fearful', 'fearful', 'happy', 'disgust', 'happy', 'happy', 'happy', 'happy', 'fearful', 'disgust', 'disgust', 'calm', 'fearful', 'happy', 'happy', 'disgust', 'disgust', 'fearful', 'disgust', 'disgust', 'disgust', 'happy', 'fearful', 'happy', 'disgust', 'fearful', 'fearful', 'disgust', 'calm', 'happy', 'calm', 'happy', 'disgust', 'fearful', 'fearful', 'fearful', 'happy', 'fearful', 'happy', 'fearful', 'happy', 'fearful', 'disgust', 'happy', 'disgust', 'disgust', 'disgust', 'fearful', 'fearful', 'disgust', 'happy', 'fearful', 'disgust', 'happy', 'fearful', 'happy', 'disgust', 'happy', 'happy', 'fearful', 'disgust', 'disgust', 'fearful', 'disgust', 'disgust', 'happy', 'disgust', 'disgust', 'fearful', 'fearful', 'happy', 'disgust', 'disgust', 'fearful', 'fearful', 'disgust', 'fearful', 'fearful', 'disgust', 'disgust', 'happy', 'disgust', 'happy', 'happy', 'fearful', 'disgust', 'happy', 'disgust', 'disgust', 'happy', 'disgust', 'happy', 'fearful', 'fearful', 'happy', 'fearful', 'disgust', 'fearful', 'happy', 'fearful', 'disgust', 'happy', 'fearful', 'disgust', 'disgust', 'happy', 'happy', 'happy', 'disgust', 'disgust', 'disgust', 'fearful', 'fearful', 'disgust', 'disgust', 'disgust', 'disgust', 'fearful', 'disgust', 'happy', 'fearful', 'happy', 'disgust', 'disgust', 'happy', 'fearful', 'happy', 'fearful', 'happy', 'fearful', 'fearful', 'fearful', 'fearful', 'disgust', 'happy', 'disgust', 'happy', 'fearful', 'happy', 'disgust', 'happy', 'happy', 'fearful', 'fearful', 'fearful', 'fearful', 'happy', 'happy', 'disgust', 'fearful', 'disgust', 'happy', 'happy', 'calm', 'disgust', 'fearful', 'fearful', 'happy', 'calm', 'happy', 'happy', 'fearful', 'fearful', 'happy', 'fearful', 'happy', 'happy', 'disgust', 'fearful', 'disgust', 'happy', 'fearful', 'happy', 'happy', 'fearful', 'disgust', 'fearful', 'disgust', 'fearful', 'happy', 'fearful', 'disgust', 'disgust', 'fearful', 'happy', 'fearful', 'calm', 'happy', 'happy', 'disgust', 'happy', 'happy', 'fearful', 'disgust', 'disgust', 'disgust', 'fearful', 'fearful', 'happy', 'disgust', 'disgust', 'disgust', 'happy', 'happy', 'calm', 'fearful', 'disgust', 'disgust', 'happy', 'disgust', 'disgust', 'disgust', 'fearful', 'happy', 'fearful', 'disgust', 'happy', 'disgust', 'fearful', 'disgust', 'calm', 'fearful', 'fearful', 'fearful', 'disgust', 'happy', 'calm', 'fearful', 'disgust', 'fearful', 'happy', 'fearful', 'disgust', 'happy', 'happy', 'fearful', 'fearful', 'disgust', 'disgust', 'disgust', 'fearful', 'disgust', 'happy', 'fearful', 'happy', 'disgust', 'happy', 'fearful', 'disgust', 'disgust', 'disgust', 'happy', 'happy', 'disgust', 'disgust', 'disgust', 'fearful', 'happy', 'happy', 'fearful', 'fearful', 'fearful', 'fearful', 'happy', 'disgust', 'fearful', 'fearful', 'happy', 'disgust', 'calm', 'disgust', 'happy', 'disgust', 'disgust', 'disgust', 'happy', 'fearful', 'fearful', 'disgust', 'fearful', 'happy', 'happy', 'happy', 'happy', 'happy', 'happy', 'disgust', 'disgust', 'disgust', 'disgust', 'fearful', 'calm', 'happy', 'fearful', 'happy', 'fearful', 'happy', 'happy', 'calm', 'disgust', 'happy', 'fearful', 'fearful', 'happy', 'disgust', 'calm', 'happy', 'happy', 'fearful', 'disgust', 'disgust', 'calm', 'fearful', 'disgust', 'happy', 'disgust', 'happy', 'fearful', 'fearful', 'fearful', 'fearful', 'happy', 'fearful', 'fearful', 'disgust', 'happy', 'happy', 'disgust', 'fearful', 'disgust', 'disgust', 'happy', 'fearful', 'happy', 'happy', 'fearful', 'fearful', 'fearful', 'happy', 'disgust', 'fearful', 'disgust', 'happy', 'happy', 'happy', 'fearful', 'happy', 'happy', 'happy', 'disgust', 'fearful', 'calm', 'fearful', 'fearful', 'happy', 'disgust', 'fearful', 'fearful', 'disgust', 'happy', 'disgust', 'happy', 'disgust', 'disgust', 'disgust', 'disgust', 'fearful', 'fearful', 'disgust', 'disgust', 'happy', 'disgust', 'disgust', 'calm', 'disgust', 'happy', 'happy', 'fearful', 'disgust', 'fearful', 'fearful', 'calm', 'disgust', 'happy', 'happy', 'fearful', 'calm', 'happy', 'fearful', 'disgust', 'disgust', 'fearful', 'happy', 'fearful', 'happy', 'fearful', 'happy', 'disgust', 'fearful', 'fearful', 'happy', 'disgust', 'happy', 'happy', 'fearful', 'happy', 'disgust', 'happy', 'fearful', 'fearful', 'fearful', 'fearful', 'happy', 'disgust', 'fearful', 'fearful', 'disgust', 'disgust', 'happy', 'fearful', 'happy', 'fearful', 'fearful', 'calm', 'fearful', 'fearful', 'fearful', 'fearful', 'happy', 'disgust', 'happy', 'happy', 'disgust', 'disgust', 'happy', 'happy', 'calm', 'happy', 'fearful', 'fearful', 'happy', 'fearful', 'calm', 'happy', 'fearful', 'disgust', 'happy', 'fearful', 'fearful', 'happy', 'fearful', 'fearful', 'disgust', 'disgust', 'happy', 'happy', 'disgust', 'disgust', 'fearful', 'fearful', 'disgust', 'fearful', 'disgust', 'fearful', 'fearful', 'happy', 'happy', 'fearful', 'disgust', 'fearful', 'fearful', 'disgust', 'happy', 'happy', 'happy', 'disgust', 'disgust', 'happy', 'disgust', 'calm', 'fearful', 'fearful', 'disgust', 'happy', 'happy', 'disgust', 'happy', 'happy', 'happy', 'fearful', 'fearful', 'fearful', 'happy', 'disgust', 'disgust', 'fearful', 'disgust', 'fearful', 'happy', 'fearful', 'fearful', 'disgust', 'disgust', 'happy', 'fearful', 'happy', 'disgust', 'disgust', 'disgust', 'fearful', 'fearful', 'fearful', 'happy', 'happy', 'happy', 'disgust', 'fearful', 'disgust', 'fearful', 'happy', 'happy', 'disgust', 'fearful', 'disgust', 'fearful', 'disgust', 'disgust', 'happy', 'fearful', 'happy', 'happy', 'disgust', 'happy', 'disgust', 'disgust', 'disgust', 'disgust', 'fearful', 'happy', 'happy', 'disgust', 'disgust', 'disgust', 'disgust', 'calm', 'happy', 'fearful', 'disgust', 'disgust', 'fearful', 'fearful', 'disgust', 'fearful', 'disgust', 'happy', 'fearful', 'happy', 'disgust', 'fearful', 'fearful', 'disgust', 'fearful', 'fearful', 'fearful', 'fearful', 'happy', 'happy', 'disgust', 'disgust', 'happy', 'happy', 'fearful', 'disgust', 'calm', 'disgust', 'fearful', 'fearful', 'fearful', 'fearful', 'fearful', 'fearful', 'disgust', 'disgust', 'disgust', 'happy', 'fearful', 'fearful', 'fearful', 'happy', 'disgust', 'disgust', 'fearful', 'fearful', 'disgust', 'happy', 'disgust', 'disgust', 'happy', 'happy', 'happy', 'fearful', 'disgust', 'fearful', 'disgust', 'fearful', 'happy', 'disgust', 'disgust', 'happy', 'disgust', 'disgust', 'happy', 'disgust', 'disgust', 'happy', 'disgust', 'happy', 'disgust', 'disgust', 'disgust', 'calm', 'happy', 'happy', 'happy', 'fearful', 'disgust', 'happy', 'disgust', 'happy', 'disgust', 'disgust', 'disgust', 'calm', 'disgust', 'happy', 'happy', 'fearful', 'disgust', 'happy', 'disgust', 'fearful', 'fearful', 'fearful', 'fearful', 'fearful', 'happy', 'disgust', 'calm', 'disgust', 'happy', 'fearful', 'disgust', 'disgust', 'disgust', 'calm', 'disgust', 'happy', 'fearful', 'happy', 'fearful', 'happy', 'happy', 'disgust', 'fearful', 'happy', 'disgust', 'fearful', 'fearful', 'disgust', 'calm', 'fearful', 'happy', 'disgust', 'happy', 'disgust', 'disgust', 'disgust', 'fearful', 'fearful', 'happy', 'happy', 'fearful', 'fearful', 'happy', 'happy', 'fearful', 'happy', 'happy', 'disgust', 'happy', 'disgust', 'happy', 'disgust', 'fearful', 'disgust', 'happy', 'disgust', 'fearful', 'happy', 'disgust', 'fearful', 'fearful', 'happy', 'happy', 'fearful', 'disgust', 'fearful', 'happy', 'fearful', 'fearful', 'disgust', 'disgust', 'disgust', 'fearful', 'disgust', 'fearful', 'fearful', 'fearful', 'disgust', 'fearful', 'fearful', 'fearful', 'happy', 'fearful', 'fearful', 'fearful', 'fearful', 'calm', 'fearful', 'disgust', 'fearful', 'disgust', 'disgust', 'fearful', 'happy', 'happy', 'happy', 'disgust', 'happy', 'happy', 'fearful', 'disgust', 'happy', 'fearful', 'disgust', 'calm', 'fearful', 'happy', 'disgust', 'happy', 'fearful', 'fearful', 'happy', 'disgust', 'happy', 'happy', 'disgust', 'happy', 'disgust', 'fearful', 'disgust', 'fearful', 'fearful', 'disgust', 'disgust', 'disgust', 'disgust', 'happy', 'disgust', 'disgust', 'disgust', 'disgust', 'disgust', 'disgust', 'disgust', 'fearful', 'happy', 'happy', 'disgust', 'fearful', 'fearful', 'fearful', 'disgust', 'happy', 'disgust', 'fearful', 'disgust', 'fearful', 'fearful', 'disgust', 'fearful', 'disgust', 'happy', 'happy', 'happy', 'disgust', 'fearful', 'happy', 'fearful', 'fearful', 'fearful', 'fearful', 'happy', 'calm', 'disgust', 'happy', 'happy', 'fearful', 'fearful', 'happy', 'happy', 'happy', 'happy', 'fearful', 'disgust', 'disgust', 'fearful', 'disgust', 'happy', 'fearful', 'fearful', 'disgust', 'calm', 'disgust', 'happy', 'disgust', 'disgust', 'happy', 'happy', 'fearful', 'fearful', 'disgust', 'happy', 'happy', 'disgust', 'fearful', 'disgust', 'disgust', 'happy', 'disgust', 'fearful', 'happy', 'happy', 'happy', 'calm', 'disgust', 'fearful', 'happy', 'happy', 'disgust', 'happy', 'disgust', 'happy', 'happy', 'fearful', 'fearful', 'happy', 'fearful', 'disgust', 'fearful', 'disgust', 'happy', 'happy', 'fearful', 'disgust', 'disgust', 'happy', 'happy', 'fearful', 'happy', 'disgust', 'happy', 'happy', 'fearful', 'disgust', 'fearful', 'happy', 'happy', 'happy', 'disgust', 'fearful', 'happy', 'happy', 'fearful', 'calm', 'happy', 'calm', 'disgust', 'disgust', 'disgust', 'happy', 'disgust', 'fearful', 'fearful', 'happy', 'happy', 'fearful', 'disgust', 'disgust', 'fearful', 'fearful', 'disgust', 'happy', 'happy', 'fearful', 'disgust', 'fearful', 'happy', 'disgust', 'disgust', 'happy', 'fearful', 'fearful', 'disgust', 'disgust', 'fearful', 'happy', 'disgust', 'fearful', 'happy', 'happy', 'fearful', 'happy', 'fearful', 'fearful', 'fearful', 'fearful', 'disgust', 'disgust', 'fearful', 'fearful', 'disgust', 'disgust', 'happy', 'fearful', 'disgust', 'happy', 'disgust', 'fearful', 'fearful', 'disgust', 'fearful', 'fearful', 'fearful', 'happy', 'happy', 'fearful', 'happy', 'happy', 'fearful', 'happy', 'fearful', 'happy', 'fearful', 'fearful', 'disgust', 'happy', 'happy', 'fearful', 'fearful', 'fearful', 'disgust', 'happy', 'happy', 'happy', 'happy', 'happy', 'happy', 'disgust', 'happy', 'happy', 'disgust', 'happy', 'disgust', 'disgust', 'disgust', 'happy', 'happy', 'happy', 'happy', 'disgust', 'disgust', 'disgust', 'calm', 'happy', 'calm', 'happy', 'disgust', 'happy', 'disgust', 'fearful', 'happy', 'disgust', 'disgust', 'happy', 'happy', 'disgust', 'fearful', 'disgust', 'fearful', 'happy', 'fearful', 'disgust', 'happy', 'happy', 'happy', 'disgust', 'fearful', 'disgust', 'disgust', 'disgust', 'disgust', 'disgust', 'disgust', 'disgust', 'happy', 'fearful', 'disgust', 'disgust', 'fearful', 'calm', 'fearful', 'happy', 'disgust', 'happy', 'happy', 'disgust', 'disgust', 'fearful', 'calm', 'fearful', 'disgust', 'happy', 'disgust', 'happy', 'disgust', 'disgust', 'disgust', 'disgust', 'disgust', 'disgust', 'fearful', 'happy', 'disgust', 'disgust', 'disgust', 'happy', 'happy', 'disgust', 'happy', 'fearful', 'happy', 'disgust', 'happy', 'disgust', 'happy', 'disgust', 'fearful', 'fearful', 'fearful', 'disgust', 'fearful', 'happy', 'disgust', 'calm', 'happy', 'disgust', 'fearful', 'fearful', 'fearful', 'disgust', 'fearful', 'happy', 'happy', 'disgust', 'fearful', 'fearful', 'calm', 'disgust', 'happy', 'disgust', 'happy', 'happy', 'fearful', 'disgust', 'disgust', 'disgust', 'happy', 'fearful', 'disgust', 'happy', 'disgust', 'fearful', 'fearful', 'fearful', 'happy', 'happy', 'disgust', 'disgust', 'disgust', 'disgust', 'fearful', 'disgust', 'disgust', 'fearful', 'happy', 'disgust', 'disgust', 'calm', 'fearful', 'disgust', 'fearful', 'fearful', 'disgust', 'fearful', 'calm', 'fearful', 'fearful', 'disgust', 'fearful', 'disgust', 'fearful', 'happy', 'disgust', 'fearful', 'fearful', 'fearful', 'happy', 'fearful', 'happy', 'disgust', 'disgust', 'happy', 'fearful', 'fearful', 'happy', 'fearful', 'disgust', 'happy', 'disgust', 'happy', 'happy', 'fearful', 'calm', 'happy', 'disgust', 'disgust', 'happy', 'calm', 'happy', 'disgust', 'fearful', 'fearful', 'fearful', 'fearful', 'disgust', 'disgust', 'disgust', 'happy', 'disgust', 'disgust', 'fearful', 'calm', 'happy', 'happy', 'fearful', 'happy', 'disgust', 'disgust', 'disgust', 'happy', 'disgust', 'disgust', 'disgust', 'disgust', 'fearful', 'disgust', 'disgust', 'disgust', 'disgust', 'happy', 'disgust', 'disgust', 'happy', 'fearful', 'disgust', 'happy', 'happy', 'disgust', 'fearful', 'disgust', 'fearful', 'fearful', 'fearful', 'fearful', 'happy', 'disgust', 'happy', 'happy', 'happy', 'fearful', 'disgust', 'happy', 'disgust', 'disgust', 'happy', 'happy', 'happy', 'disgust', 'happy', 'fearful', 'happy', 'calm', 'disgust', 'disgust', 'fearful', 'fearful', 'happy', 'disgust', 'disgust', 'happy', 'disgust', 'disgust', 'fearful', 'happy', 'happy', 'happy', 'happy', 'happy', 'disgust', 'disgust', 'disgust', 'happy', 'calm', 'happy', 'happy', 'happy', 'fearful', 'disgust', 'disgust', 'happy', 'happy', 'fearful', 'fearful', 'fearful', 'fearful', 'disgust', 'disgust', 'fearful', 'happy', 'disgust', 'disgust', 'happy', 'disgust', 'fearful', 'fearful', 'happy', 'fearful', 'happy', 'happy', 'disgust', 'fearful', 'fearful', 'happy', 'happy', 'fearful', 'happy', 'happy', 'happy', 'fearful', 'happy', 'disgust', 'happy', 'disgust', 'fearful', 'disgust', 'disgust', 'fearful', 'disgust', 'happy', 'calm', 'disgust', 'disgust', 'happy', 'happy', 'fearful', 'happy', 'fearful', 'fearful', 'happy', 'disgust', 'fearful', 'disgust', 'fearful', 'disgust', 'calm', 'fearful', 'disgust', 'happy', 'disgust', 'fearful', 'disgust', 'happy', 'fearful', 'calm', 'calm', 'disgust', 'fearful', 'happy', 'disgust', 'fearful', 'calm', 'disgust', 'fearful', 'fearful', 'fearful', 'fearful', 'fearful', 'happy', 'disgust', 'disgust', 'calm', 'disgust', 'fearful', 'fearful', 'fearful', 'calm', 'disgust', 'disgust', 'fearful', 'disgust', 'happy', 'disgust', 'fearful', 'calm', 'fearful', 'fearful', 'fearful', 'fearful', 'happy', 'disgust', 'fearful', 'disgust', 'fearful', 'disgust', 'fearful', 'happy', 'disgust', 'disgust', 'fearful', 'happy', 'disgust', 'happy', 'disgust', 'fearful', 'disgust', 'disgust', 'fearful', 'happy', 'fearful', 'happy', 'fearful', 'fearful', 'disgust', 'fearful', 'happy', 'happy', 'happy', 'fearful', 'disgust', 'disgust', 'fearful', 'happy', 'happy', 'happy', 'disgust', 'fearful', 'fearful', 'happy', 'fearful', 'disgust', 'fearful', 'happy', 'disgust', 'happy', 'fearful', 'happy', 'disgust', 'fearful', 'disgust', 'fearful', 'fearful', 'disgust', 'happy', 'happy', 'calm', 'fearful', 'happy', 'happy', 'fearful', 'happy', 'happy', 'disgust', 'fearful', 'happy', 'disgust', 'fearful', 'calm', 'fearful', 'fearful', 'fearful', 'disgust', 'calm', 'disgust', 'fearful', 'fearful', 'calm', 'calm', 'fearful', 'fearful', 'fearful', 'disgust', 'disgust', 'happy', 'calm', 'fearful', 'fearful', 'fearful', 'happy', 'fearful', 'disgust', 'fearful', 'disgust', 'disgust', 'fearful', 'disgust', 'fearful', 'fearful', 'happy', 'disgust', 'calm', 'happy', 'disgust', 'happy', 'disgust', 'fearful', 'happy', 'fearful', 'happy', 'fearful', 'disgust', 'fearful', 'disgust', 'disgust', 'happy', 'disgust', 'fearful', 'disgust', 'happy', 'happy', 'fearful', 'happy', 'disgust', 'fearful', 'happy', 'fearful', 'fearful', 'happy', 'disgust', 'disgust', 'fearful', 'disgust', 'disgust', 'fearful', 'fearful', 'happy', 'disgust', 'fearful', 'disgust', 'fearful', 'disgust', 'fearful', 'disgust', 'happy', 'disgust', 'fearful', 'fearful', 'happy', 'fearful', 'fearful', 'happy', 'happy', 'fearful', 'disgust', 'happy', 'calm', 'fearful', 'happy', 'calm', 'happy', 'happy', 'fearful', 'happy', 'happy', 'disgust', 'happy', 'happy', 'happy', 'disgust', 'happy', 'fearful', 'happy', 'happy', 'happy', 'happy', 'fearful', 'fearful', 'happy', 'fearful', 'happy', 'disgust', 'disgust', 'fearful', 'happy', 'fearful', 'fearful', 'fearful', 'fearful', 'fearful', 'disgust', 'fearful', 'fearful', 'happy', 'fearful', 'fearful', 'fearful', 'disgust', 'disgust', 'calm', 'fearful', 'happy', 'disgust', 'fearful', 'disgust', 'happy', 'happy', 'fearful', 'disgust', 'fearful', 'disgust', 'disgust', 'disgust', 'fearful', 'fearful', 'fearful', 'fearful', 'fearful', 'calm', 'happy', 'happy', 'happy', 'happy', 'fearful', 'fearful', 'happy', 'happy', 'happy', 'disgust', 'disgust', 'happy', 'fearful', 'disgust', 'happy', 'happy', 'fearful', 'disgust', 'happy', 'happy', 'disgust', 'happy', 'fearful', 'happy', 'disgust', 'fearful', 'disgust', 'disgust', 'disgust', 'happy', 'happy', 'disgust', 'happy', 'happy', 'disgust', 'disgust', 'disgust', 'fearful', 'calm', 'happy', 'happy', 'disgust', 'fearful', 'disgust', 'happy', 'disgust', 'disgust', 'fearful', 'happy', 'happy', 'fearful', 'calm', 'fearful', 'fearful', 'fearful', 'fearful', 'happy', 'happy', 'fearful', 'disgust', 'fearful', 'fearful', 'disgust', 'calm', 'fearful', 'disgust', 'happy', 'fearful', 'fearful', 'fearful', 'happy', 'fearful', 'calm', 'disgust', 'disgust', 'fearful', 'fearful', 'calm', 'disgust', 'disgust', 'fearful', 'fearful', 'happy', 'fearful', 'disgust', 'disgust', 'disgust', 'disgust', 'disgust', 'fearful', 'happy', 'happy', 'happy', 'happy', 'happy', 'disgust', 'fearful', 'fearful', 'happy', 'disgust', 'fearful', 'fearful', 'disgust', 'happy', 'disgust', 'disgust', 'disgust', 'fearful', 'happy', 'disgust', 'disgust', 'fearful', 'happy', 'happy', 'fearful', 'fearful', 'fearful', 'happy', 'fearful', 'calm', 'disgust', 'fearful', 'happy', 'disgust', 'disgust', 'fearful', 'happy', 'disgust', 'fearful', 'disgust', 'fearful', 'calm', 'happy', 'happy', 'disgust', 'disgust', 'happy', 'happy', 'fearful', 'happy', 'happy', 'calm', 'disgust', 'fearful', 'disgust', 'happy', 'disgust', 'disgust', 'fearful', 'fearful', 'happy', 'fearful', 'fearful', 'disgust', 'happy', 'calm', 'disgust', 'calm', 'happy', 'disgust', 'disgust', 'happy', 'fearful', 'fearful', 'disgust', 'disgust', 'fearful', 'happy', 'fearful', 'calm', 'disgust', 'fearful', 'fearful', 'happy', 'happy', 'happy', 'happy', 'disgust', 'disgust', 'happy', 'happy', 'fearful', 'fearful', 'disgust', 'happy', 'fearful', 'happy', 'calm', 'fearful', 'calm', 'disgust', 'fearful', 'fearful', 'disgust', 'happy', 'happy', 'fearful', 'fearful', 'disgust', 'happy', 'fearful', 'happy', 'fearful', 'happy', 'happy', 'disgust', 'happy', 'disgust', 'happy', 'disgust', 'fearful', 'disgust', 'fearful', 'happy', 'happy', 'fearful', 'fearful', 'happy', 'disgust', 'disgust', 'happy', 'happy', 'happy', 'fearful', 'fearful', 'fearful', 'fearful', 'disgust', 'happy', 'fearful', 'fearful', 'happy', 'fearful', 'fearful', 'fearful', 'happy', 'disgust', 'fearful', 'happy', 'disgust', 'happy', 'disgust', 'disgust', 'disgust', 'disgust', 'happy', 'disgust', 'disgust', 'fearful', 'disgust', 'happy', 'fearful', 'happy', 'disgust', 'happy', 'disgust', 'disgust', 'happy', 'happy', 'fearful', 'disgust', 'disgust', 'disgust', 'fearful', 'fearful', 'disgust', 'fearful', 'fearful', 'happy', 'disgust', 'fearful', 'disgust', 'fearful', 'calm', 'happy', 'happy', 'calm', 'disgust', 'happy', 'fearful', 'happy', 'fearful', 'fearful', 'disgust', 'fearful', 'happy', 'happy', 'happy', 'happy', 'happy', 'happy', 'fearful', 'calm', 'disgust', 'disgust', 'calm', 'fearful', 'happy', 'disgust', 'fearful', 'disgust', 'fearful', 'happy', 'fearful', 'fearful', 'happy', 'happy', 'fearful', 'happy', 'happy', 'happy', 'happy', 'happy', 'disgust', 'calm', 'disgust', 'fearful', 'fearful', 'fearful', 'calm', 'fearful', 'disgust', 'disgust', 'disgust', 'disgust', 'happy', 'disgust', 'disgust', 'fearful', 'disgust', 'calm', 'fearful', 'happy', 'disgust', 'happy', 'fearful', 'happy', 'disgust', 'fearful', 'happy', 'fearful', 'happy', 'disgust', 'happy', 'fearful', 'disgust', 'happy', 'fearful', 'happy', 'happy', 'fearful', 'disgust', 'disgust', 'disgust', 'happy', 'disgust', 'calm', 'happy', 'happy', 'disgust', 'disgust', 'happy', 'happy', 'disgust', 'disgust', 'fearful', 'fearful', 'disgust', 'fearful', 'fearful', 'disgust', 'happy', 'happy', 'fearful', 'calm', 'happy', 'happy', 'disgust', 'fearful', 'happy', 'fearful', 'disgust', 'disgust', 'happy', 'fearful', 'happy', 'happy', 'happy', 'happy', 'fearful', 'happy', 'disgust', 'fearful', 'fearful', 'disgust', 'happy', 'fearful', 'disgust', 'calm', 'happy', 'fearful', 'disgust', 'happy', 'happy', 'calm', 'disgust', 'disgust', 'fearful', 'happy', 'fearful', 'happy', 'happy', 'disgust', 'happy', 'happy', 'happy', 'happy', 'happy', 'fearful', 'disgust', 'fearful', 'fearful', 'disgust', 'disgust', 'happy', 'fearful', 'fearful', 'happy', 'fearful', 'disgust', 'fearful', 'disgust', 'disgust', 'disgust', 'fearful', 'happy', 'fearful', 'happy', 'disgust', 'fearful', 'happy', 'fearful', 'disgust', 'fearful', 'calm', 'disgust', 'fearful', 'fearful', 'fearful', 'disgust', 'happy', 'disgust', 'happy', 'fearful', 'fearful', 'happy', 'fearful', 'fearful', 'fearful', 'fearful', 'disgust', 'happy', 'fearful', 'disgust', 'fearful', 'fearful', 'fearful', 'disgust', 'happy', 'disgust', 'disgust', 'fearful', 'happy', 'fearful', 'happy', 'disgust', 'disgust', 'disgust', 'fearful', 'happy', 'disgust', 'disgust', 'happy', 'disgust', 'fearful', 'calm', 'happy', 'fearful', 'calm', 'fearful', 'happy', 'happy', 'happy', 'fearful', 'fearful', 'happy', 'fearful', 'happy', 'happy', 'fearful', 'disgust', 'happy', 'disgust', 'fearful', 'happy', 'disgust', 'fearful', 'disgust', 'fearful', 'disgust', 'happy', 'disgust', 'fearful', 'fearful', 'disgust', 'happy', 'happy', 'happy', 'fearful', 'fearful', 'happy', 'happy', 'fearful', 'fearful', 'fearful', 'disgust', 'disgust', 'fearful', 'happy', 'happy', 'disgust', 'happy', 'disgust', 'disgust', 'disgust', 'fearful', 'disgust', 'fearful', 'happy', 'fearful', 'fearful', 'disgust', 'fearful', 'calm', 'happy', 'calm', 'fearful', 'fearful', 'happy', 'happy', 'disgust', 'disgust', 'fearful', 'disgust', 'fearful', 'fearful', 'fearful', 'fearful', 'fearful', 'fearful', 'fearful', 'disgust', 'disgust', 'fearful', 'fearful', 'fearful', 'happy', 'happy', 'fearful', 'disgust', 'happy', 'fearful', 'fearful', 'disgust', 'disgust', 'happy', 'fearful', 'happy', 'happy', 'fearful', 'disgust', 'fearful', 'disgust', 'fearful', 'disgust', 'happy', 'fearful', 'disgust', 'happy', 'fearful', 'happy', 'happy', 'fearful', 'fearful', 'fearful', 'happy', 'happy', 'happy', 'disgust', 'happy', 'happy', 'fearful', 'fearful', 'disgust', 'disgust', 'fearful', 'disgust', 'disgust', 'disgust', 'happy', 'fearful', 'happy', 'disgust', 'fearful', 'happy', 'disgust', 'fearful', 'fearful', 'calm', 'happy', 'disgust', 'fearful', 'calm', 'fearful', 'happy', 'fearful', 'disgust', 'disgust', 'fearful', 'disgust', 'disgust', 'fearful', 'disgust', 'happy', 'fearful', 'calm', 'calm', 'happy', 'happy', 'happy', 'disgust', 'happy', 'fearful', 'happy', 'fearful', 'happy', 'calm', 'calm', 'disgust', 'happy', 'fearful', 'calm', 'fearful', 'happy', 'disgust', 'fearful', 'fearful', 'disgust', 'fearful', 'happy', 'disgust', 'happy', 'happy', 'happy', 'happy', 'disgust', 'disgust', 'disgust', 'happy', 'happy', 'disgust', 'disgust', 'disgust', 'fearful', 'disgust', 'fearful', 'fearful', 'happy', 'disgust', 'fearful', 'disgust', 'disgust', 'fearful', 'happy', 'disgust', 'happy', 'happy', 'happy', 'happy', 'fearful', 'disgust', 'happy', 'disgust', 'happy', 'fearful', 'disgust', 'fearful', 'fearful', 'happy', 'happy', 'happy', 'fearful', 'fearful', 'calm', 'happy', 'happy', 'happy', 'fearful', 'fearful', 'happy', 'disgust', 'disgust']\n",
      "['disgust', 'happy', 'happy', 'happy', 'happy', 'fearful', 'fearful', 'happy', 'happy', 'happy', 'happy', 'disgust', 'fearful', 'happy', 'disgust', 'disgust', 'disgust', 'disgust', 'happy', 'fearful', 'happy', 'calm', 'happy', 'disgust', 'disgust', 'fearful', 'disgust', 'fearful', 'happy', 'fearful', 'disgust', 'disgust', 'disgust', 'disgust', 'disgust', 'disgust', 'fearful', 'happy', 'fearful', 'fearful', 'happy', 'happy', 'happy', 'calm', 'happy', 'fearful', 'disgust', 'fearful', 'calm', 'happy', 'fearful', 'fearful', 'disgust', 'fearful', 'disgust', 'fearful', 'fearful', 'fearful', 'fearful', 'disgust', 'happy', 'happy', 'fearful', 'fearful', 'disgust', 'fearful', 'disgust', 'disgust', 'happy', 'happy', 'disgust', 'happy', 'fearful', 'fearful', 'fearful', 'disgust', 'fearful', 'happy', 'disgust', 'happy', 'fearful', 'disgust', 'calm', 'fearful', 'fearful', 'fearful', 'disgust', 'happy', 'disgust', 'disgust', 'happy', 'happy', 'fearful', 'fearful', 'happy', 'happy', 'fearful', 'fearful', 'disgust', 'happy', 'disgust', 'happy', 'fearful', 'happy', 'happy', 'fearful', 'fearful', 'fearful', 'fearful', 'fearful', 'fearful', 'fearful', 'happy', 'happy', 'happy', 'disgust', 'fearful', 'disgust', 'fearful', 'disgust', 'happy', 'fearful', 'disgust', 'fearful', 'fearful', 'calm', 'disgust', 'disgust', 'disgust', 'disgust', 'happy', 'disgust', 'happy', 'fearful', 'fearful', 'disgust', 'fearful', 'disgust', 'fearful', 'happy', 'happy', 'disgust', 'disgust', 'disgust', 'happy', 'disgust', 'happy', 'disgust', 'fearful', 'happy', 'disgust', 'happy', 'fearful', 'happy', 'happy', 'happy', 'fearful', 'fearful', 'calm', 'happy', 'disgust', 'fearful', 'happy', 'calm', 'happy', 'happy', 'disgust', 'happy', 'happy', 'fearful', 'happy', 'calm', 'fearful', 'happy', 'fearful', 'fearful', 'fearful', 'disgust', 'disgust', 'fearful', 'happy', 'disgust', 'happy', 'fearful', 'happy', 'happy', 'fearful', 'disgust', 'disgust', 'fearful', 'fearful', 'disgust', 'disgust', 'disgust', 'fearful', 'calm', 'disgust', 'fearful', 'disgust', 'happy', 'fearful', 'fearful', 'calm', 'disgust', 'happy', 'happy', 'disgust', 'disgust', 'disgust', 'calm', 'disgust', 'happy', 'happy', 'calm', 'happy', 'fearful', 'fearful', 'disgust', 'happy', 'fearful', 'fearful', 'fearful', 'fearful', 'happy', 'fearful', 'fearful', 'happy', 'fearful', 'happy', 'happy', 'happy', 'happy', 'disgust', 'calm', 'disgust', 'calm', 'happy', 'fearful', 'fearful', 'disgust', 'disgust', 'disgust', 'fearful', 'disgust', 'disgust', 'disgust', 'fearful', 'fearful', 'happy', 'happy', 'happy', 'disgust', 'fearful', 'fearful', 'happy', 'fearful', 'happy', 'happy', 'happy', 'disgust', 'calm', 'happy', 'happy', 'disgust', 'fearful', 'happy', 'happy', 'disgust', 'disgust', 'fearful', 'fearful', 'disgust', 'disgust', 'fearful', 'disgust', 'fearful', 'disgust', 'happy', 'happy', 'happy', 'happy', 'happy', 'disgust', 'fearful', 'happy', 'disgust', 'disgust', 'fearful', 'happy', 'fearful', 'disgust', 'fearful', 'disgust', 'fearful', 'happy', 'fearful', 'happy', 'happy', 'disgust', 'disgust', 'happy', 'disgust', 'happy', 'fearful', 'fearful', 'disgust', 'happy', 'happy', 'disgust', 'fearful', 'happy', 'fearful', 'disgust', 'happy', 'happy', 'happy', 'fearful', 'fearful', 'fearful', 'fearful', 'disgust', 'fearful', 'calm', 'happy', 'fearful', 'fearful', 'fearful', 'disgust', 'fearful', 'happy', 'disgust', 'fearful', 'happy', 'fearful', 'happy', 'disgust', 'fearful', 'happy', 'fearful', 'disgust', 'happy', 'happy', 'disgust', 'fearful', 'happy', 'happy', 'happy', 'happy', 'happy', 'disgust', 'disgust', 'disgust', 'happy', 'happy', 'disgust', 'fearful', 'happy', 'disgust', 'disgust', 'calm', 'happy', 'happy', 'calm', 'disgust', 'disgust', 'disgust', 'disgust', 'happy', 'fearful', 'fearful', 'happy', 'fearful', 'happy', 'disgust', 'happy', 'calm', 'happy', 'happy', 'disgust', 'disgust', 'fearful', 'happy', 'happy', 'happy', 'disgust', 'disgust', 'happy', 'happy', 'disgust', 'happy', 'happy', 'happy', 'fearful', 'disgust', 'happy', 'happy', 'disgust', 'happy', 'calm', 'fearful', 'happy', 'fearful', 'happy', 'fearful', 'disgust', 'happy', 'disgust', 'happy', 'happy', 'fearful', 'fearful', 'fearful', 'disgust', 'happy', 'happy', 'fearful', 'disgust', 'disgust', 'fearful', 'disgust', 'happy', 'happy', 'fearful', 'fearful', 'happy', 'fearful', 'disgust', 'happy', 'fearful', 'happy', 'fearful', 'disgust', 'happy', 'fearful', 'happy', 'disgust', 'happy', 'fearful', 'fearful', 'disgust', 'disgust', 'fearful', 'calm', 'fearful', 'happy', 'fearful', 'disgust', 'disgust', 'fearful', 'fearful', 'happy', 'fearful', 'disgust', 'fearful', 'disgust', 'fearful', 'disgust', 'disgust', 'disgust', 'fearful', 'fearful', 'disgust', 'fearful', 'fearful', 'disgust', 'calm', 'disgust', 'disgust', 'happy', 'fearful', 'happy', 'fearful', 'disgust', 'disgust', 'happy', 'fearful', 'happy', 'disgust', 'happy', 'fearful', 'happy', 'fearful', 'happy', 'disgust', 'disgust', 'happy', 'fearful', 'fearful', 'disgust', 'fearful', 'fearful', 'happy', 'fearful', 'disgust', 'disgust', 'disgust', 'disgust', 'disgust', 'fearful', 'disgust', 'happy', 'happy', 'fearful', 'disgust', 'fearful', 'disgust', 'disgust', 'fearful', 'disgust', 'disgust', 'fearful', 'fearful', 'fearful', 'fearful', 'happy', 'disgust', 'happy', 'disgust', 'disgust', 'happy', 'happy', 'fearful', 'disgust', 'happy', 'disgust', 'happy', 'happy', 'fearful', 'happy', 'fearful', 'disgust', 'calm', 'happy', 'fearful', 'fearful', 'calm', 'disgust', 'fearful', 'fearful', 'happy', 'calm', 'fearful', 'calm', 'disgust', 'fearful', 'fearful', 'happy', 'happy', 'happy', 'fearful', 'happy', 'fearful', 'calm', 'happy', 'fearful', 'fearful', 'fearful', 'happy', 'disgust', 'happy', 'disgust', 'happy', 'disgust', 'fearful', 'disgust', 'fearful', 'disgust', 'fearful', 'disgust', 'disgust', 'fearful', 'disgust', 'fearful', 'happy', 'fearful', 'happy', 'fearful', 'calm', 'happy', 'disgust', 'fearful', 'disgust', 'happy', 'happy', 'fearful', 'fearful', 'fearful', 'fearful', 'fearful', 'fearful', 'fearful', 'disgust', 'happy', 'fearful', 'happy', 'disgust', 'happy', 'disgust', 'happy', 'fearful', 'calm', 'happy', 'disgust', 'fearful', 'fearful', 'disgust', 'happy', 'happy', 'fearful', 'disgust', 'fearful', 'disgust', 'fearful', 'fearful', 'fearful', 'fearful', 'happy', 'fearful', 'fearful', 'happy', 'disgust', 'fearful', 'happy', 'happy', 'calm', 'disgust', 'fearful', 'disgust', 'disgust', 'happy', 'happy', 'disgust', 'fearful', 'fearful', 'disgust', 'happy', 'happy', 'fearful', 'fearful', 'happy', 'happy', 'happy', 'happy', 'disgust', 'happy', 'happy', 'fearful', 'disgust', 'disgust', 'fearful', 'happy', 'happy', 'happy', 'happy', 'fearful', 'fearful', 'fearful', 'disgust', 'happy', 'disgust', 'disgust', 'disgust', 'fearful', 'disgust', 'disgust', 'disgust', 'happy', 'disgust', 'disgust', 'disgust', 'happy', 'happy', 'disgust', 'disgust', 'fearful', 'disgust', 'fearful', 'fearful', 'happy', 'disgust', 'calm', 'happy', 'happy', 'fearful', 'fearful', 'disgust', 'disgust', 'disgust', 'disgust', 'happy', 'calm', 'disgust', 'disgust', 'happy', 'disgust', 'fearful', 'happy', 'disgust', 'fearful', 'disgust', 'happy', 'happy', 'fearful', 'happy', 'disgust', 'disgust', 'fearful', 'happy', 'fearful', 'fearful', 'disgust', 'fearful', 'happy', 'happy', 'happy', 'disgust', 'fearful', 'disgust', 'fearful', 'fearful', 'disgust', 'calm', 'disgust', 'disgust', 'happy', 'disgust', 'fearful', 'fearful', 'happy', 'disgust', 'happy', 'disgust', 'disgust', 'fearful', 'calm', 'fearful', 'fearful', 'fearful', 'disgust', 'disgust', 'fearful', 'fearful', 'calm', 'calm', 'fearful', 'disgust', 'fearful', 'fearful', 'fearful', 'happy', 'fearful', 'disgust', 'fearful', 'calm', 'happy', 'happy', 'happy', 'calm', 'fearful', 'disgust', 'fearful', 'happy', 'disgust', 'fearful', 'fearful', 'disgust', 'disgust', 'fearful', 'disgust', 'disgust', 'happy', 'happy', 'disgust', 'fearful', 'calm', 'disgust', 'disgust', 'fearful', 'happy', 'disgust', 'fearful', 'disgust', 'disgust', 'fearful', 'happy', 'happy', 'fearful', 'disgust', 'disgust', 'fearful', 'happy', 'happy', 'fearful', 'disgust', 'disgust', 'happy', 'fearful', 'happy', 'happy', 'happy', 'fearful', 'disgust', 'fearful', 'happy', 'fearful', 'fearful', 'fearful', 'happy', 'happy', 'disgust', 'fearful', 'happy', 'happy', 'happy', 'fearful', 'fearful', 'fearful', 'disgust', 'happy', 'disgust', 'disgust', 'happy', 'disgust', 'happy', 'happy', 'happy', 'fearful', 'calm', 'happy', 'happy', 'happy', 'happy', 'fearful', 'disgust', 'happy', 'disgust', 'happy', 'disgust', 'happy', 'disgust', 'disgust', 'calm', 'disgust', 'fearful', 'disgust', 'happy', 'happy', 'disgust', 'happy', 'calm', 'happy', 'happy', 'fearful', 'happy', 'disgust', 'fearful', 'fearful', 'happy', 'calm', 'fearful', 'disgust', 'fearful', 'happy', 'happy', 'fearful', 'fearful', 'fearful', 'disgust', 'disgust', 'fearful', 'disgust', 'happy', 'disgust', 'fearful', 'disgust', 'disgust', 'disgust', 'fearful', 'disgust', 'happy', 'fearful', 'fearful', 'fearful', 'fearful', 'disgust', 'happy', 'happy', 'disgust', 'happy', 'happy', 'fearful', 'happy', 'happy', 'fearful', 'disgust', 'calm', 'disgust', 'fearful', 'happy', 'disgust', 'fearful', 'fearful', 'happy', 'fearful', 'happy', 'disgust', 'happy', 'disgust', 'fearful', 'disgust', 'fearful', 'happy', 'happy', 'disgust', 'happy', 'fearful', 'disgust', 'happy', 'happy', 'happy', 'happy', 'happy', 'fearful', 'disgust', 'calm', 'disgust', 'fearful', 'fearful', 'disgust', 'happy', 'happy', 'disgust', 'fearful', 'fearful', 'happy', 'disgust', 'disgust', 'fearful', 'fearful', 'disgust', 'disgust', 'disgust']\n"
     ]
    }
   ],
   "source": [
    "#DataFlair - Split the dataset\n",
    "x_train,x_test,y_train,y_test=load_data(test_size=0.25)\n",
    "print(x_train)\n",
    "print(x_test)\n",
    "print(y_train)\n",
    "print(y_test)"
   ]
  },
  {
   "cell_type": "code",
   "execution_count": 8,
   "metadata": {},
   "outputs": [
    {
     "name": "stdout",
     "output_type": "stream",
     "text": [
      "(2826, 942)\n"
     ]
    }
   ],
   "source": [
    "#DataFlair - Get the shape of the training and testing datasets\n",
    "print((x_train.shape[0], x_test.shape[0]))"
   ]
  },
  {
   "cell_type": "code",
   "execution_count": 9,
   "metadata": {},
   "outputs": [
    {
     "name": "stdout",
     "output_type": "stream",
     "text": [
      "Features extracted: 180\n"
     ]
    }
   ],
   "source": [
    "#DataFlair - Get the number of features extracted\n",
    "print(f'Features extracted: {x_train.shape[1]}')"
   ]
  },
  {
   "cell_type": "code",
   "execution_count": 10,
   "metadata": {},
   "outputs": [],
   "source": [
    "#DataFlair - Initialize the Multi Layer Perceptron Classifier\n",
    "model=MLPClassifier(alpha=0.01, batch_size=256, epsilon=1e-08, hidden_layer_sizes=(300,), learning_rate='adaptive', max_iter=500)"
   ]
  },
  {
   "cell_type": "code",
   "execution_count": 11,
   "metadata": {},
   "outputs": [
    {
     "data": {
      "text/plain": [
       "MLPClassifier(alpha=0.01, batch_size=256, hidden_layer_sizes=(300,),\n",
       "              learning_rate='adaptive', max_iter=500)"
      ]
     },
     "execution_count": 11,
     "metadata": {},
     "output_type": "execute_result"
    }
   ],
   "source": [
    "#DataFlair - Train the model\n",
    "model.fit(x_train,y_train)"
   ]
  },
  {
   "cell_type": "code",
   "execution_count": 12,
   "metadata": {},
   "outputs": [
    {
     "name": "stdout",
     "output_type": "stream",
     "text": [
      "['disgust']\n"
     ]
    }
   ],
   "source": [
    "#DataFlair - Predict for the test set\n",
    "y_pred=model.predict(x_test)\n",
    "y_pre=model.predict([feature])\n",
    "print(y_pre)"
   ]
  },
  {
   "cell_type": "code",
   "execution_count": 13,
   "metadata": {},
   "outputs": [
    {
     "name": "stdout",
     "output_type": "stream",
     "text": [
      "Accuracy: 88.96%\n"
     ]
    }
   ],
   "source": [
    "#DataFlair - Calculate the accuracy of our model\n",
    "accuracy=accuracy_score(y_true=y_test, y_pred=y_pred)\n",
    "\n",
    "#DataFlair - Print the accuracy\n",
    "print(\"Accuracy: {:.2f}%\".format(accuracy*100))"
   ]
  },
  {
   "cell_type": "code",
   "execution_count": null,
   "metadata": {},
   "outputs": [],
   "source": []
  }
 ],
 "metadata": {
  "kernelspec": {
   "display_name": "Python 3",
   "language": "python",
   "name": "python3"
  },
  "language_info": {
   "codemirror_mode": {
    "name": "ipython",
    "version": 3
   },
   "file_extension": ".py",
   "mimetype": "text/x-python",
   "name": "python",
   "nbconvert_exporter": "python",
   "pygments_lexer": "ipython3",
   "version": "3.8.5"
  }
 },
 "nbformat": 4,
 "nbformat_minor": 4
}
